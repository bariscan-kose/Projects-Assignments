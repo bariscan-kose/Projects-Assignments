{
 "cells": [
  {
   "cell_type": "code",
   "execution_count": 1,
   "metadata": {
    "collapsed": true,
    "pycharm": {
     "name": "#%%\n"
    }
   },
   "outputs": [
    {
     "name": "stdout",
     "output_type": "stream",
     "text": [
      "['EURTRY_forecast_2022-08-21.png', 'EURUSD_forecast_2022-08-21.png', 'FROTO_forecast_2022-08-21.png', 'LOGO_forecast_2022-08-21.png', 'MSFT_forecast_2022-08-21.png', 'OCFC_forecast_2022-08-21.png', 'SIMO_forecast_2022-08-21.png']\n",
      "['EURTRY_test_2022-08-21.png', 'EURUSD_test_2022-08-21.png', 'FROTO_test_2022-08-21.png', 'LOGO_test_2022-08-21.png', 'MSFT_test_2022-08-21.png', 'OCFC_test_2022-08-21.png', 'SIMO_test_2022-08-21.png']\n",
      "2022-08-21\n"
     ]
    }
   ],
   "source": [
    "import os\n",
    "import sys\n",
    "from PIL import Image\n",
    "from datetime import date\n",
    "today=date.today()\n",
    "#REDACTED\n",
    "os_listdir=[f for f in os.listdir(dir_) if os.path.isfile(f\"{dir_}/{f}\")]\n",
    "\n",
    "forecast_pngs=[png for png in os_listdir if png.split(\"_\")[1].split(\".\")[0]==\"forecast\"]\n",
    "test_pngs=[png for png in os_listdir if png.split(\"_\")[1].split(\".\")[0]==\"test\" ]\n",
    "forecast_pngs.sort()\n",
    "test_pngs.sort()\n",
    "print(forecast_pngs)\n",
    "print(test_pngs)\n",
    "print(today)"
   ]
  },
  {
   "cell_type": "code",
   "execution_count": 2,
   "metadata": {
    "collapsed": false,
    "pycharm": {
     "name": "#%%\n"
    }
   },
   "outputs": [],
   "source": [
    "\n",
    "forecast_images = [Image.open(f\"{dir_}/{x}\") for x in forecast_pngs]\n",
    "test_images = [Image.open(f\"{dir_}/{x}\") for x in test_pngs]\n",
    "img_matrix=[]\n",
    "assert len(forecast_images)==len(test_images)\n",
    "\n",
    "for i in range(len(forecast_images)):\n",
    "  img_matrix.append([test_images[i],forecast_images[i]])\n",
    "\n",
    "widths, heights = zip(*(i.size for i in forecast_images))\n",
    "\n",
    "total_height = sum(heights)\n",
    "max_width = max(widths)\n",
    "\n",
    "y_offset = 0\n",
    "y_padding=0\n",
    "x_offset = 0\n",
    "x_padding= 0\n",
    "\n",
    "new_im = Image.new('RGB', (max_width*2+x_padding,total_height))\n",
    "\n",
    "for im in test_images:\n",
    "  new_im.paste(im, (0,y_offset))\n",
    "  y_offset += im.size[1] + y_padding\n",
    "\n",
    "y_offset = 0\n",
    "x_offset = max_width+x_padding\n",
    "\n",
    "for im in forecast_images:\n",
    "  new_im.paste(im, (x_offset,y_offset))\n",
    "  y_offset += im.size[1] + y_padding\n",
    "\n",
    "new_im.save(f\"{dir_}/ModelResultsFinal/{today}_combinedresults.png\")"
   ]
  },
  {
   "cell_type": "code",
   "execution_count": 3,
   "metadata": {
    "collapsed": false,
    "pycharm": {
     "name": "#%%\n"
    }
   },
   "outputs": [
    {
     "name": "stdout",
     "output_type": "stream",
     "text": [
      "['MSFT_forecast_2022-08-21.png', 'OCFC_forecast_2022-08-21.png']\n",
      "['MSFT_test_2022-08-21.png', 'OCFC_test_2022-08-21.png']\n",
      "2022-08-21\n"
     ]
    }
   ],
   "source": [
    "#REDACTED\n",
    "os_listdir_sf=[f for f in os.listdir(dir_sf) if os.path.isfile(f\"{dir_sf}/{f}\")]\n",
    "\n",
    "forecast_pngs_sf=[png for png in os_listdir_sf if png.split(\"_\")[1].split(\".\")[0]==\"forecast\"]\n",
    "test_pngs_sf=[png for png in os_listdir_sf if png.split(\"_\")[1].split(\".\")[0]==\"test\" ]\n",
    "forecast_pngs_sf.sort()\n",
    "test_pngs_sf.sort()\n",
    "print(forecast_pngs_sf)\n",
    "print(test_pngs_sf)\n",
    "print(today)"
   ]
  },
  {
   "cell_type": "code",
   "execution_count": 4,
   "metadata": {
    "collapsed": false,
    "pycharm": {
     "name": "#%%\n"
    }
   },
   "outputs": [],
   "source": [
    "forecast_images_sf = [Image.open(f\"{dir_sf}/{x}\") for x in forecast_pngs_sf]\n",
    "test_images_sf = [Image.open(f\"{dir_sf}/{x}\") for x in test_pngs_sf]\n",
    "img_matrix_sf=[]\n",
    "assert len(forecast_images_sf)==len(test_images_sf)\n",
    "\n",
    "for i in range(len(forecast_images_sf)):\n",
    "  img_matrix_sf.append([test_images_sf[i],forecast_images_sf[i]])\n",
    "\n",
    "widths_sf, heights_sf = zip(*(i.size for i in forecast_images_sf))\n",
    "\n",
    "total_height_sf = sum(heights_sf)\n",
    "max_width_sf = max(widths_sf)\n",
    "\n",
    "y_offset = 0\n",
    "y_padding=0\n",
    "x_offset = 0\n",
    "x_padding= 0\n",
    "\n",
    "new_im_sf = Image.new('RGB', (max_width_sf*2+x_padding,total_height_sf))\n",
    "\n",
    "for im in test_images_sf:\n",
    "  new_im_sf.paste(im, (0,y_offset))\n",
    "  y_offset += im.size[1] + y_padding\n",
    "\n",
    "y_offset = 0\n",
    "x_offset = max_width_sf+x_padding\n",
    "\n",
    "for im in forecast_images_sf:\n",
    "  new_im_sf.paste(im, (x_offset,y_offset))\n",
    "  y_offset += im.size[1] + y_padding\n",
    "\n",
    "new_im_sf.save(f\"{dir_}/ModelResultsFinal/{today}_finalresults.png\")"
   ]
  }
 ],
 "metadata": {
  "kernelspec": {
   "display_name": "Python 3",
   "language": "python",
   "name": "python3"
  },
  "language_info": {
   "codemirror_mode": {
    "name": "ipython",
    "version": 2
   },
   "file_extension": ".py",
   "mimetype": "text/x-python",
   "name": "python",
   "nbconvert_exporter": "python",
   "pygments_lexer": "ipython2",
   "version": "2.7.6"
  }
 },
 "nbformat": 4,
 "nbformat_minor": 0
}
