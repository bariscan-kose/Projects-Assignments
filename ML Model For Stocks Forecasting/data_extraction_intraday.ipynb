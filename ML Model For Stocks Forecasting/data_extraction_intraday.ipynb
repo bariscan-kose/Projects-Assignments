{
 "cells": [
  {
   "cell_type": "code",
   "execution_count": 14,
   "metadata": {
    "collapsed": true,
    "pycharm": {
     "name": "#%%\n"
    }
   },
   "outputs": [],
   "source": [
    "import requests\n",
    "import json\n",
    "import os, os.path\n",
    "import pandas as pd\n",
    "import numpy as np\n",
    "import time"
   ]
  },
  {
   "cell_type": "code",
   "execution_count": 15,
   "outputs": [],
   "source": [
    "url = \"https://alpha-vantage.p.rapidapi.com/query\"\n",
    "\n",
    "querystring = {\"interval\":\"30min\",\"function\":\"TIME_SERIES_INTRADAY\",\"symbol\":\"MSFT\",\"datatype\":\"json\",\"output_size\":\"full\"}\n",
    "\n",
    "headers = {\n",
    "\t\"X-RapidAPI-Key\": \"0b49086ad7mshd8eb6d78dfa9981p14f385jsne4bd6ac71584\",\n",
    "\t\"X-RapidAPI-Host\": \"alpha-vantage.p.rapidapi.com\"\n",
    "}\n",
    "\n",
    "response = requests.request(\"GET\", url, headers=headers, params=querystring)\n",
    "response_json=response.json()\n",
    "# print(response_json)"
   ],
   "metadata": {
    "collapsed": false,
    "pycharm": {
     "name": "#%%\n"
    }
   }
  },
  {
   "cell_type": "code",
   "execution_count": 13,
   "outputs": [
    {
     "data": {
      "text/plain": "{'1. Information': 'Daily Time Series with Splits and Dividend Events',\n '2. Symbol': 'MSFT',\n '3. Last Refreshed': '2022-08-05',\n '4. Output Size': 'Full size',\n '5. Time Zone': 'US/Eastern'}"
     },
     "execution_count": 13,
     "metadata": {},
     "output_type": "execute_result"
    }
   ],
   "source": [
    "response_json[\"Meta Data\"]"
   ],
   "metadata": {
    "collapsed": false,
    "pycharm": {
     "name": "#%%\n"
    }
   }
  },
  {
   "cell_type": "code",
   "execution_count": 16,
   "outputs": [],
   "source": [
    "response_ts=response_json[\"Time Series (30min)\"]\n",
    "response_ts_2=[]\n",
    "for k,v in response_ts.items():\n",
    "    response_ts_2.append([k,v[\"1. open\"],v[\"2. high\"],v[\"3. low\"],v[\"4. close\"],v[\"5. volume\"]])\n",
    "response_df=pd.DataFrame(response_ts_2, columns=[\"Index\",\"1. open\",\"2. high\",\"3. low\",\"4. close\",\"5. volume\"])\n",
    "response_df.to_csv(\"HistoricalData/\"+response_json[\"Meta Data\"][\"2. Symbol\"]+\"_\"+response_json[\"Meta Data\"][\"4. Interval\"]+\".csv\", index=False)\n",
    "# response_ts_2"
   ],
   "metadata": {
    "collapsed": false,
    "pycharm": {
     "name": "#%%\n"
    }
   }
  },
  {
   "cell_type": "code",
   "execution_count": 17,
   "outputs": [
    {
     "data": {
      "text/plain": "100"
     },
     "execution_count": 17,
     "metadata": {},
     "output_type": "execute_result"
    }
   ],
   "source": [
    "len(response_df)"
   ],
   "metadata": {
    "collapsed": false,
    "pycharm": {
     "name": "#%%\n"
    }
   }
  }
 ],
 "metadata": {
  "kernelspec": {
   "display_name": "Python 3",
   "language": "python",
   "name": "python3"
  },
  "language_info": {
   "codemirror_mode": {
    "name": "ipython",
    "version": 2
   },
   "file_extension": ".py",
   "mimetype": "text/x-python",
   "name": "python",
   "nbconvert_exporter": "python",
   "pygments_lexer": "ipython2",
   "version": "2.7.6"
  }
 },
 "nbformat": 4,
 "nbformat_minor": 0
}